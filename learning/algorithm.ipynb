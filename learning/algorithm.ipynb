{
 "cells": [
  {
   "cell_type": "markdown",
   "metadata": {},
   "source": [
    "###快速排序"
   ]
  },
  {
   "cell_type": "code",
   "execution_count": 1,
   "metadata": {},
   "outputs": [
    {
     "name": "stdout",
     "output_type": "stream",
     "text": [
      "[0, 2, 3, 4, 6, 7, 10, 17, 22, 23, 44]\n",
      "Wall time: 1e+03 µs\n"
     ]
    }
   ],
   "source": [
    "%%time\n",
    "def quicksort(array):\n",
    "    if len(array) < 2:\n",
    "        return array\n",
    "    else:\n",
    "        pivot = array[0]\n",
    "        less = [i for i in array[1:] if i <= pivot]\n",
    "        greater = [i for i in array[1:] if i > pivot]\n",
    "        return quicksort(less) + [pivot] + quicksort(greater)\n",
    "\n",
    "a = [10,6,0,3,2,22,44,4,7,17,23]\n",
    "\n",
    "print quicksort(a)"
   ]
  },
  {
   "cell_type": "markdown",
   "metadata": {},
   "source": [
    "###广度优先搜索"
   ]
  },
  {
   "cell_type": "markdown",
   "metadata": {},
   "source": [
    "使用字典生成图,使用deque生成队列，搜索第一个点，把和第一个点连接的加入队列，如果没找到就再把相连的节点加入队列末尾，同时标记已经搜索的人"
   ]
  },
  {
   "cell_type": "code",
   "execution_count": 1,
   "metadata": {},
   "outputs": [],
   "source": [
    "graph={}\n",
    "graph['you']=['alice','bob','claire']\n",
    "graph['bob']=['you']\n",
    "graph['alice']=['you']\n",
    "graph['claire']=['you','mom']\n",
    "graph['mom']=['claire']"
   ]
  },
  {
   "cell_type": "code",
   "execution_count": 2,
   "metadata": {},
   "outputs": [],
   "source": [
    "from collections import deque"
   ]
  },
  {
   "cell_type": "code",
   "execution_count": 3,
   "metadata": {},
   "outputs": [],
   "source": [
    "def person_is_seller(name):\n",
    "    return name[-1] == 'm'"
   ]
  },
  {
   "cell_type": "code",
   "execution_count": 4,
   "metadata": {},
   "outputs": [],
   "source": [
    "def search(name):\n",
    "    search_queue = deque()\n",
    "    search_queue += graph[name]\n",
    "    searched = []\n",
    "    while search_queue:\n",
    "        person = search_queue.popleft()\n",
    "        if not person in searched:\n",
    "            if person_is_seller(person):\n",
    "                print person + ' is a mango seller!'\n",
    "                return True\n",
    "            else:\n",
    "                search_queue += graph[person]\n",
    "                searched.append(person)\n",
    "    return False"
   ]
  },
  {
   "cell_type": "code",
   "execution_count": 5,
   "metadata": {},
   "outputs": [
    {
     "name": "stdout",
     "output_type": "stream",
     "text": [
      "mom is a mango seller!\n"
     ]
    },
    {
     "data": {
      "text/plain": [
       "True"
      ]
     },
     "execution_count": 5,
     "metadata": {},
     "output_type": "execute_result"
    }
   ],
   "source": [
    "search('you')"
   ]
  },
  {
   "cell_type": "markdown",
   "metadata": {},
   "source": [
    "###狄克斯特拉算法"
   ]
  },
  {
   "cell_type": "markdown",
   "metadata": {},
   "source": [
    "不能用于有负权边的图，有的话要使用贝尔曼·福德算法（ Bellman-Ford algorithm）"
   ]
  },
  {
   "cell_type": "markdown",
   "metadata": {},
   "source": [
    "使用字典（散列表）表征图"
   ]
  },
  {
   "cell_type": "code",
   "execution_count": 1,
   "metadata": {},
   "outputs": [],
   "source": [
    "graph={}\n",
    "graph['you']=['alice','bob','claire']\n",
    "graph['start']={}\n",
    "graph['start']['a']=6\n",
    "graph['start']['b']=2\n",
    "graph['a']={}\n",
    "graph['a']['fin']=1\n",
    "graph['b']={}\n",
    "graph['b']['a']=3\n",
    "graph['b']['fin']=5\n",
    "graph['fin']={}"
   ]
  },
  {
   "cell_type": "markdown",
   "metadata": {},
   "source": [
    "初始的存储开销的散列表"
   ]
  },
  {
   "cell_type": "code",
   "execution_count": 2,
   "metadata": {},
   "outputs": [],
   "source": [
    "infinity=float('inf')\n",
    "costs={}\n",
    "costs['a']=6\n",
    "costs['b']=2\n",
    "costs['fin']=infinity"
   ]
  },
  {
   "cell_type": "markdown",
   "metadata": {},
   "source": [
    "记录父节点的散列表"
   ]
  },
  {
   "cell_type": "code",
   "execution_count": 3,
   "metadata": {},
   "outputs": [],
   "source": [
    "parents={}\n",
    "parents['a']='start'\n",
    "parents['b']='start'\n",
    "parents['fin']=None"
   ]
  },
  {
   "cell_type": "code",
   "execution_count": 4,
   "metadata": {},
   "outputs": [],
   "source": [
    "#记录处理过的节点的数组\n",
    "processed=[]"
   ]
  },
  {
   "cell_type": "markdown",
   "metadata": {},
   "source": [
    "找出开销最小的节点"
   ]
  },
  {
   "cell_type": "code",
   "execution_count": 14,
   "metadata": {},
   "outputs": [],
   "source": [
    "def find_lowest_cost_node(costs):\n",
    "    lowest_cost = float('inf')\n",
    "    lowest_cost_node = None\n",
    "    for node in costs:\n",
    "        cost = costs[node]\n",
    "        if cost < lowest_cost and node not in processed:\n",
    "            lowest_cost = cost\n",
    "            lowest_cost_node = node\n",
    "    return lowest_cost_node"
   ]
  },
  {
   "cell_type": "markdown",
   "metadata": {},
   "source": [
    "找到开销最小的点，然后看它往其他节点走的开销是不是比当前的小，小的话就更新去的节点的开销，并记录当前节点为父节点"
   ]
  },
  {
   "cell_type": "code",
   "execution_count": 15,
   "metadata": {},
   "outputs": [
    {
     "name": "stdout",
     "output_type": "stream",
     "text": [
      "6\n"
     ]
    }
   ],
   "source": [
    "node = find_lowest_cost_node(costs)\n",
    "while node is not None:\n",
    "    cost = costs[node]\n",
    "    neighbors = graph[node]\n",
    "    for n in neighbors.keys():\n",
    "        new_cost = cost + neighbors[n]\n",
    "        if costs[n] > new_cost:\n",
    "            costs[n] = new_cost\n",
    "            parents[n] = node\n",
    "    processed.append(node)\n",
    "    node = find_lowest_cost_node(costs)\n",
    "print costs['fin']"
   ]
  },
  {
   "cell_type": "markdown",
   "metadata": {},
   "source": [
    "###贪心算法"
   ]
  },
  {
   "cell_type": "markdown",
   "metadata": {},
   "source": [
    "每次找局部最优解，最终不一定是全局最优的，但是近似的，可以用来解决NP完全问题，比如旅行商问题、集合覆盖问题等的近似解"
   ]
  },
  {
   "cell_type": "code",
   "execution_count": 2,
   "metadata": {},
   "outputs": [],
   "source": [
    "# 所有要覆盖的州\n",
    "states_needed = set([\"mt\", \"wa\", \"or\", \"id\", \"nv\", \"ut\",\"ca\", \"az\"])\n",
    "# 广播的清单\n",
    "stations = {}\n",
    "stations[\"kone\"] = set([\"id\", \"nv\", \"ut\"])\n",
    "stations[\"ktwo\"] = set([\"wa\", \"id\", \"mt\"])\n",
    "stations[\"kthree\"] = set([\"or\", \"nv\", \"ca\"])\n",
    "stations[\"kfour\"] = set([\"nv\", \"ut\"])\n",
    "stations[\"kfive\"] = set([\"ca\", \"az\"])\n",
    "# 最终选择的广播台\n",
    "final_stations = set()"
   ]
  },
  {
   "cell_type": "code",
   "execution_count": 3,
   "metadata": {},
   "outputs": [
    {
     "name": "stdout",
     "output_type": "stream",
     "text": [
      "[('kfive', set(['ca', 'az'])), ('ktwo', set(['mt', 'id', 'wa'])), ('kthree', set(['ca', 'or', 'nv'])), ('kone', set(['ut', 'id', 'nv'])), ('kfour', set(['ut', 'nv']))]\n"
     ]
    }
   ],
   "source": [
    "# dict.items?\n",
    "print stations.items()"
   ]
  },
  {
   "cell_type": "code",
   "execution_count": 4,
   "metadata": {},
   "outputs": [
    {
     "name": "stdout",
     "output_type": "stream",
     "text": [
      "kfive\n",
      "ktwo\n",
      "kfive\n",
      "kthree\n",
      "kfive\n",
      "kone\n"
     ]
    }
   ],
   "source": [
    "# 每次都找出当前覆盖的最多的\n",
    "while states_needed:\n",
    "    best_station = None\n",
    "    states_covered = set()\n",
    "    for station, states_for_station in stations.items():\n",
    "        covered = states_needed & states_for_station\n",
    "        if len(covered) > len(states_covered):\n",
    "            best_station = station\n",
    "            states_covered = covered\n",
    "            #print best_station\n",
    "    final_stations.add(best_station)    \n",
    "    states_needed -= states_covered"
   ]
  },
  {
   "cell_type": "code",
   "execution_count": 28,
   "metadata": {},
   "outputs": [
    {
     "name": "stdout",
     "output_type": "stream",
     "text": [
      "set(['ktwo', 'kthree', 'kone', 'kfive'])\n"
     ]
    }
   ],
   "source": [
    "print final_stations"
   ]
  },
  {
   "cell_type": "markdown",
   "metadata": {},
   "source": [
    "###动态规划\n",
    "* 单元格中的值是什么？\n",
    "* 如何将这个问题划分为子问题？\n",
    "* 网格的坐标轴是什么？"
   ]
  },
  {
   "cell_type": "markdown",
   "metadata": {},
   "source": [
    "背包问题"
   ]
  },
  {
   "cell_type": "markdown",
   "metadata": {},
   "source": [
    "把背包化成小份（根据商品的体积），看每次装完之后的背包的最优结果是什么\n",
    "* 每行表示一个商品，每一列是背包体积，行的顺序无关\n",
    "* 要按照行填充，按列排会和按行排有所不同\n",
    "* 装的物品不能可分割，否则使用贪心算法\n",
    "* 不能是相互依赖的，比如装了一个之后另一个的花费会发生变化\n",
    "* 不要求背包最后恰好满（如果要求就把第二位之后的初始值设置为-inf）"
   ]
  },
  {
   "cell_type": "code",
   "execution_count": 10,
   "metadata": {},
   "outputs": [
    {
     "name": "stdout",
     "output_type": "stream",
     "text": [
      "220\n"
     ]
    }
   ],
   "source": [
    "# import numpy as np\n",
    "def solve2(vlist,wlist,totalWeight,totalLength):\n",
    "#     resArr = np.zeros((totalWeight)+1,dtype=np.int32)\n",
    "    resArr = [0]*(totalWeight+1)\n",
    "    for i in range(1,totalLength+1):\n",
    "#       倒序计算从而只用一维向量即可，因为可以保证不会因为前面的改变影响后面\n",
    "        for j in range(totalWeight,0,-1):\n",
    "            if wlist[i] <= j:\n",
    "                resArr[j] = max(resArr[j],resArr[j-wlist[i]]+vlist[i])\n",
    "    return resArr[-1]\n",
    "\n",
    "if __name__ == '__main__':\n",
    "    v = [0,60,100,120]\n",
    "    w = [0,10,20,30]\n",
    "    weight = 50\n",
    "    n = 3\n",
    "    result = solve2(v,w,weight,n)\n",
    "    print(result)"
   ]
  },
  {
   "cell_type": "markdown",
   "metadata": {},
   "source": [
    "其它的一些问题的解决也用到了动态规划\n",
    "* 判断和当前的词符相似的词（编辑距离），使用最长公共子串（连续的）或者最长公共子序列（不一定连续）\n",
    "* DNA序列相似性\n",
    "* git中判断文件的修改情况\n",
    "* word判断断行的位置"
   ]
  },
  {
   "cell_type": "markdown",
   "metadata": {},
   "source": [
    "###k最邻近算法"
   ]
  },
  {
   "cell_type": "markdown",
   "metadata": {},
   "source": [
    "归类位离得近的类"
   ]
  }
 ],
 "metadata": {
  "kernelspec": {
   "display_name": "Python 2",
   "language": "python",
   "name": "python2"
  },
  "language_info": {
   "codemirror_mode": {
    "name": "ipython",
    "version": 2
   },
   "file_extension": ".py",
   "mimetype": "text/x-python",
   "name": "python",
   "nbconvert_exporter": "python",
   "pygments_lexer": "ipython2",
   "version": "2.7.15"
  }
 },
 "nbformat": 4,
 "nbformat_minor": 2
}
